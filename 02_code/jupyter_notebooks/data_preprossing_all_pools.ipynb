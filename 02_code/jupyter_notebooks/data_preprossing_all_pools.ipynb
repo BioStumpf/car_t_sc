{
 "cells": [
  {
   "cell_type": "code",
   "execution_count": 1,
   "metadata": {},
   "outputs": [],
   "source": [
    "import os\n",
    "os.chdir('../../')"
   ]
  },
  {
   "cell_type": "code",
   "execution_count": 6,
   "metadata": {},
   "outputs": [],
   "source": [
    "cd = os.getcwd()\n",
    "functions_path = os.path.join(cd, '02_code/functions')"
   ]
  },
  {
   "cell_type": "code",
   "execution_count": 3,
   "metadata": {},
   "outputs": [
    {
     "name": "stderr",
     "output_type": "stream",
     "text": [
      "/tmp/ipykernel_2655739/1030767214.py:18: DeprecationWarning: The global conversion available with activate() is deprecated and will be removed in the next major release. Use a local converter.\n",
      "  anndata2ri.activate()\n"
     ]
    }
   ],
   "source": [
    "#import required packages\n",
    "\n",
    "import scanpy as sc\n",
    "import scanpy.external as sce\n",
    "import numpy as np\n",
    "import pandas as pd\n",
    "import anndata as ad\n",
    "import seaborn as sns\n",
    "from matplotlib import pyplot as plt\n",
    "from scipy.sparse import csr_matrix\n",
    "\n",
    "import anndata2ri\n",
    "import logging\n",
    "import rpy2.rinterface_lib.callbacks as rcb\n",
    "import rpy2.robjects as ro\n",
    "rcb.logger.setLevel(logging.ERROR)\n",
    "ro.pandas2ri.activate()\n",
    "anndata2ri.activate()\n",
    "\n",
    "%load_ext rpy2.ipython\n",
    "\n",
    "# from scipy.sparse import csr_matrix\n",
    "import sys\n",
    "sys.path.append(functions_path)\n",
    "import functions_dat_processing as dp"
   ]
  },
  {
   "cell_type": "code",
   "execution_count": null,
   "metadata": {},
   "outputs": [],
   "source": [
    "#import required R packages\n",
    "soupx = ro.packages.importr('SoupX') \n",
    "scran = ro.packages.importr('scran') \n",
    "bcp = ro.packages.importr('BiocParallel') \n",
    "scry = ro.packages.importr('scry')"
   ]
  },
  {
   "cell_type": "code",
   "execution_count": 10,
   "metadata": {},
   "outputs": [
    {
     "data": {
      "text/plain": [
       "<module 'functions_dat_processing' from '/home/s377963/car_t_sc/02_code/functions/functions_dat_processing.py'>"
      ]
     },
     "execution_count": 10,
     "metadata": {},
     "output_type": "execute_result"
    }
   ],
   "source": [
    "import importlib\n",
    "importlib.reload(dp)"
   ]
  },
  {
   "cell_type": "code",
   "execution_count": 24,
   "metadata": {},
   "outputs": [],
   "source": [
    "def read_all_pools(path_to_folders: str, path_to_count_matrix_within_folders: str):\n",
    "    adatas = []\n",
    "    subfolders = sorted(os.listdir(path_to_folders))\n",
    "    for folder in subfolders:\n",
    "        count_matrix_path = os.path.join(path_to_folders, folder, path_to_count_matrix_within_folders)\n",
    "        if os.path.isdir(count_matrix_path):\n",
    "            print(f'Reading from: {count_matrix_path}')\n",
    "            adata = sc.read_10x_mtx(count_matrix_path, gex_only=False)\n",
    "            adatas.append(adata)\n",
    "        else:\n",
    "            print(f'Could not read {count_matrix_path}')\n",
    "    print(f'Read a total of {len(adatas)}')\n",
    "    return adatas"
   ]
  },
  {
   "cell_type": "code",
   "execution_count": 12,
   "metadata": {},
   "outputs": [
    {
     "name": "stdout",
     "output_type": "stream",
     "text": [
      "Reading from: ./01_data/raw/cellranger_multi/2024-06-07_24054SC_Luu_P1_cellranger/per_sample_outs/count/sample_filtered_feature_bc_matrix\n",
      "Reading from: ./01_data/raw/cellranger_multi/2024-06-07_24054SC_Luu_P2_cellranger/per_sample_outs/count/sample_filtered_feature_bc_matrix\n",
      "Reading from: ./01_data/raw/cellranger_multi/2024-06-07_24054SC_Luu_P3_cellranger/per_sample_outs/count/sample_filtered_feature_bc_matrix\n",
      "Reading from: ./01_data/raw/cellranger_multi/2024-06-07_24054SC_Luu_P4_cellranger/per_sample_outs/count/sample_filtered_feature_bc_matrix\n",
      "Reading from: ./01_data/raw/cellranger_multi/2024-06-07_24054SC_Luu_P5_cellranger/per_sample_outs/count/sample_filtered_feature_bc_matrix\n",
      "Reading from: ./01_data/raw/cellranger_multi/2024-06-07_24054SC_Luu_P6_cellranger/per_sample_outs/count/sample_filtered_feature_bc_matrix\n",
      "Reading from: ./01_data/raw/cellranger_multi/2024-06-07_24054SC_Luu_P7_cellranger/per_sample_outs/count/sample_filtered_feature_bc_matrix\n",
      "Reading from: ./01_data/raw/cellranger_multi/2024-06-07_24054SC_Luu_P8_cellranger/per_sample_outs/count/sample_filtered_feature_bc_matrix\n",
      "Reading from: ./01_data/raw/cellranger_multi/2024-06-07_24054SC_Luu_P9_cellranger/per_sample_outs/count/sample_filtered_feature_bc_matrix\n",
      "Read a total of 9\n",
      "Reading from: ./01_data/raw/cellranger_multi/2024-06-07_24054SC_Luu_P1_cellranger/count/raw_feature_bc_matrix\n",
      "Reading from: ./01_data/raw/cellranger_multi/2024-06-07_24054SC_Luu_P2_cellranger/count/raw_feature_bc_matrix\n",
      "Reading from: ./01_data/raw/cellranger_multi/2024-06-07_24054SC_Luu_P3_cellranger/count/raw_feature_bc_matrix\n",
      "Reading from: ./01_data/raw/cellranger_multi/2024-06-07_24054SC_Luu_P4_cellranger/count/raw_feature_bc_matrix\n",
      "Reading from: ./01_data/raw/cellranger_multi/2024-06-07_24054SC_Luu_P5_cellranger/count/raw_feature_bc_matrix\n",
      "Reading from: ./01_data/raw/cellranger_multi/2024-06-07_24054SC_Luu_P6_cellranger/count/raw_feature_bc_matrix\n",
      "Reading from: ./01_data/raw/cellranger_multi/2024-06-07_24054SC_Luu_P7_cellranger/count/raw_feature_bc_matrix\n",
      "Reading from: ./01_data/raw/cellranger_multi/2024-06-07_24054SC_Luu_P8_cellranger/count/raw_feature_bc_matrix\n",
      "Reading from: ./01_data/raw/cellranger_multi/2024-06-07_24054SC_Luu_P9_cellranger/count/raw_feature_bc_matrix\n",
      "Read a total of 9\n"
     ]
    }
   ],
   "source": [
    "path_to_folders = './01_data/raw/cellranger_multi'\n",
    "path_to_count_matrices_in_folders = 'per_sample_outs/count/sample_filtered_feature_bc_matrix'\n",
    "path_to_raw_count_matrices_in_folders = 'count/raw_feature_bc_matrix'\n",
    "\n",
    "adatas = dp.read_all_pools(path_to_folders, path_to_count_matrices_in_folders)\n",
    "adatas_raw = dp.read_all_pools(path_to_folders, path_to_raw_count_matrices_in_folders)"
   ]
  }
 ],
 "metadata": {
  "kernelspec": {
   "display_name": "scanpy",
   "language": "python",
   "name": "python3"
  },
  "language_info": {
   "codemirror_mode": {
    "name": "ipython",
    "version": 3
   },
   "file_extension": ".py",
   "mimetype": "text/x-python",
   "name": "python",
   "nbconvert_exporter": "python",
   "pygments_lexer": "ipython3",
   "version": "3.12.4"
  }
 },
 "nbformat": 4,
 "nbformat_minor": 2
}
