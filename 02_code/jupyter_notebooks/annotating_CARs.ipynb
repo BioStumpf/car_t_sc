{
 "cells": [
  {
   "cell_type": "markdown",
   "metadata": {},
   "source": [
    "Load packages"
   ]
  },
  {
   "cell_type": "code",
   "execution_count": 1,
   "metadata": {},
   "outputs": [],
   "source": [
    "import os\n",
    "os.chdir('../../')"
   ]
  },
  {
   "cell_type": "code",
   "execution_count": 2,
   "metadata": {},
   "outputs": [],
   "source": [
    "cd = os.getcwd()\n",
    "functions_path = os.path.join(cd, '02_code/functions')"
   ]
  },
  {
   "cell_type": "code",
   "execution_count": 3,
   "metadata": {},
   "outputs": [
    {
     "name": "stderr",
     "output_type": "stream",
     "text": [
      "/tmp/ipykernel_578777/1078855118.py:19: DeprecationWarning: The global conversion available with activate() is deprecated and will be removed in the next major release. Use a local converter.\n",
      "  anndata2ri.activate()\n"
     ]
    }
   ],
   "source": [
    "import scanpy as sc\n",
    "import scanpy.external as sce\n",
    "import numpy as np\n",
    "import pandas as pd\n",
    "import anndata as ad\n",
    "import seaborn as sns\n",
    "from matplotlib import pyplot as plt\n",
    "from scipy.sparse import csr_matrix\n",
    "from anndata import AnnData\n",
    "import skmisc\n",
    "import regex as re\n",
    "\n",
    "import anndata2ri\n",
    "import logging\n",
    "import rpy2.rinterface_lib.callbacks as rcb\n",
    "import rpy2.robjects as ro\n",
    "rcb.logger.setLevel(logging.ERROR)\n",
    "ro.pandas2ri.activate()\n",
    "anndata2ri.activate()\n",
    "\n",
    "%load_ext rpy2.ipython\n",
    "\n",
    "# from scipy.sparse import csr_matrix\n",
    "import sys\n",
    "sys.path.append(functions_path)\n",
    "import functions_dat_processing as dp\n",
    "import functions_plotting as dplt\n",
    "import functions_for_CAR_annotation as ca"
   ]
  },
  {
   "cell_type": "code",
   "execution_count": 19,
   "metadata": {},
   "outputs": [
    {
     "data": {
      "text/plain": [
       "<module 'functions_for_CAR_annotation' from '/home/s377963/car_t_sc/02_code/functions/functions_for_CAR_annotation.py'>"
      ]
     },
     "execution_count": 19,
     "metadata": {},
     "output_type": "execute_result"
    }
   ],
   "source": [
    "#if needed, reload functions\n",
    "import importlib\n",
    "importlib.reload(dp)\n",
    "importlib.reload(dplt)\n",
    "importlib.reload(ca)"
   ]
  },
  {
   "cell_type": "markdown",
   "metadata": {},
   "source": [
    "Import data"
   ]
  },
  {
   "cell_type": "code",
   "execution_count": 147,
   "metadata": {},
   "outputs": [],
   "source": [
    "adata_raw = sc.read_h5ad('/home/s377963/car_t_sc/01_data/processed/merged_and_processed/merged_pools_prior_any_processing.h5ad') #prior to any sort of processing, shows maximal possible yield with respect to CAR-T annotation\n",
    "adata_dLN = sc.read_h5ad('/home/s377963/car_t_sc/01_data/processed/merged_and_processed/merged_calagry_exact_TIL_only.h5ad') #after dLN filtering\n",
    "adata_pureTC = sc.read_h5ad('/home/s377963/car_t_sc/01_data/processed/merged_and_processed/merged_1xintegrated_pureTCs_calagry_exact.h5ad') #after annotating pureTCs and prior to anotating TC subtypes\n",
    "adata_pure_TC_and_rest = sc.read_h5ad('/home/s377963/car_t_sc/01_data/processed/merged_and_processed/merged_calagry_exact_TIL_only_celltypes.h5ad') #after annotating pureTCs and prior to anotating TC subtypes\n",
    "adata_annotated = sc.read_h5ad('/home/s377963/car_t_sc/01_data/processed/merged_and_processed/merged_1xintegrated_scaled_pureTCs_annotated_calagry_exact.h5ad') #after annotating TCs and TC subtypes\n",
    "\n",
    "# differently processed datasets\n",
    "# adata = sc.read_h5ad('/home/s377963/car_t_sc/01_data/processed/merged_and_processed/merged_1xintegrated_scaled_pureTCs_annotated_pseudocount.h5ad')\n",
    "# adata = sc.read('./01_data/processed/merged_and_processed/hashsolo_abs_integrated_hvg_TCannotated_TCsubtypes.h5ad')\n",
    "# adata = sc.read('./01_data/processed/merged_and_processed/hashsolo_mad_soupx_integrated_hvg_TCannotated_TCsubtypes.h5ad')\n",
    "# adata = sc.read('./01_data/processed/merged_and_processed/hashsolo_mad_integrated_hvg_TCannotated_TCsubtypes.h5ad')\n",
    "# adata = sc.read('./01_data/processed/merged_and_processed/HTODemux_abs_1000_nosoup.h5ad')"
   ]
  },
  {
   "cell_type": "code",
   "execution_count": 148,
   "metadata": {},
   "outputs": [],
   "source": [
    "for adata in [adata_raw, adata_dLN, adata_pure_TC_and_rest, adata_pureTC, adata_annotated]:\n",
    "    adata.obs.rename(columns={\"HTO_classification\": \"Classification\"}, inplace=True) \n",
    "    adata.obs.rename(columns={\"functional.cluster\": \"Tcell_subtype\"}, inplace=True)\n",
    "    adata.obs.rename(columns={\"pool\": \"dataset\"}, inplace=True)\n",
    "    rmvd_p = [int(dataset.replace(\"P\", \"\")) - 1 for dataset in adata.obs['dataset']]\n",
    "    adata.obs['dataset'] = rmvd_p"
   ]
  },
  {
   "cell_type": "code",
   "execution_count": 149,
   "metadata": {},
   "outputs": [],
   "source": [
    "#only needed for adata_annotated, since it still contains NAs for TC subtypes\n",
    "nas = adata_annotated.obs.Tcell_subtype == \"NA\"\n",
    "adata_annotated_nona = adata_annotated[~nas,:].copy()"
   ]
  },
  {
   "cell_type": "code",
   "execution_count": 150,
   "metadata": {},
   "outputs": [
    {
     "name": "stderr",
     "output_type": "stream",
     "text": [
      "/home/s377963/car_t_sc/02_code/functions/functions_for_CAR_annotation.py:24: FutureWarning: Downcasting object dtype arrays on .fillna, .ffill, .bfill is deprecated and will change in a future version. Call result.infer_objects(copy=False) instead. To opt-in to the future behavior, set `pd.set_option('future.no_silent_downcasting', True)`\n",
      "  merged.fillna(0, inplace=True)\n",
      "/home/s377963/car_t_sc/02_code/functions/functions_for_CAR_annotation.py:24: FutureWarning: Downcasting object dtype arrays on .fillna, .ffill, .bfill is deprecated and will change in a future version. Call result.infer_objects(copy=False) instead. To opt-in to the future behavior, set `pd.set_option('future.no_silent_downcasting', True)`\n",
      "  merged.fillna(0, inplace=True)\n",
      "/home/s377963/car_t_sc/02_code/functions/functions_for_CAR_annotation.py:24: FutureWarning: Downcasting object dtype arrays on .fillna, .ffill, .bfill is deprecated and will change in a future version. Call result.infer_objects(copy=False) instead. To opt-in to the future behavior, set `pd.set_option('future.no_silent_downcasting', True)`\n",
      "  merged.fillna(0, inplace=True)\n",
      "/home/s377963/car_t_sc/02_code/functions/functions_for_CAR_annotation.py:24: FutureWarning: Downcasting object dtype arrays on .fillna, .ffill, .bfill is deprecated and will change in a future version. Call result.infer_objects(copy=False) instead. To opt-in to the future behavior, set `pd.set_option('future.no_silent_downcasting', True)`\n",
      "  merged.fillna(0, inplace=True)\n",
      "/home/s377963/car_t_sc/02_code/functions/functions_for_CAR_annotation.py:24: FutureWarning: Downcasting object dtype arrays on .fillna, .ffill, .bfill is deprecated and will change in a future version. Call result.infer_objects(copy=False) instead. To opt-in to the future behavior, set `pd.set_option('future.no_silent_downcasting', True)`\n",
      "  merged.fillna(0, inplace=True)\n"
     ]
    }
   ],
   "source": [
    "path = './01_data/processed/count_cart_receptor'\n",
    "VDJ_GEX_list = ca.read_and_merge_CAR_annotation(path) #list with dims: list[1][8]\n",
    "merged = [ca.merge_VDJ_and_GEX(GEX, VDJ) for (GEX, VDJ) in zip(*VDJ_GEX_list)]\n",
    "\n",
    "annotated = []\n",
    "for adata in [adata_raw, adata_dLN, adata_pure_TC_and_rest, adata_pureTC, adata_annotated]:\n",
    "    new_adata = ca.annotate_mapped_cars(adata, merged)\n",
    "    annotated.append(new_adata)"
   ]
  },
  {
   "cell_type": "code",
   "execution_count": 139,
   "metadata": {},
   "outputs": [],
   "source": [
    "#check what celltypes CAR TCR containing cells are assigned to if not pure TCs\n",
    "car_and_celltypes_annotated = annotated[2]\n",
    "only_car = car_and_celltypes_annotated[car_and_celltypes_annotated.obs.isCAR == True]\n",
    "only_car_nonTCs = only_car[only_car.obs['is.pure_Tcell'] == 'Impure']"
   ]
  },
  {
   "cell_type": "code",
   "execution_count": 132,
   "metadata": {},
   "outputs": [
    {
     "data": {
      "text/plain": [
       "[NaN]\n",
       "Categories (0, object): []"
      ]
     },
     "execution_count": 132,
     "metadata": {},
     "output_type": "execute_result"
    }
   ],
   "source": [
    "#see that cell not assigned as pureTCs that have reads matching the CD19 CAR-T marker are not assigned to any cell type at all (probably due to lacking marker genes)\n",
    "only_car_nonTCs.obs.scGate_multi.unique()"
   ]
  },
  {
   "cell_type": "code",
   "execution_count": 155,
   "metadata": {},
   "outputs": [
    {
     "data": {
      "text/plain": [
       "dataset\n",
       "0    5169\n",
       "1      24\n",
       "2      12\n",
       "3      13\n",
       "4      11\n",
       "5       3\n",
       "6      15\n",
       "7      10\n",
       "8       4\n",
       "dtype: int64"
      ]
     },
     "execution_count": 155,
     "metadata": {},
     "output_type": "execute_result"
    }
   ],
   "source": [
    "#for raw (theoretical maximum of annotated CAR-Ts)\n",
    "only_cars0 = annotated[0][annotated[0].obs.isCAR]\n",
    "cars_beginning = only_cars0.obs.groupby('dataset').size()\n",
    "cars_beginning"
   ]
  },
  {
   "cell_type": "code",
   "execution_count": 178,
   "metadata": {},
   "outputs": [
    {
     "data": {
      "text/plain": [
       "dataset\n",
       "0    1177\n",
       "1       4\n",
       "2       8\n",
       "3       0\n",
       "4       3\n",
       "5       0\n",
       "6      10\n",
       "7       0\n",
       "8       1\n",
       "dtype: int64"
      ]
     },
     "execution_count": 178,
     "metadata": {},
     "output_type": "execute_result"
    }
   ],
   "source": [
    "#for only TILs after qc and demultiplexing\n",
    "only_cars1 = annotated[1][annotated[1].obs.isCAR]\n",
    "cars_qc = only_cars1.obs.groupby('dataset').size()\n",
    "\n",
    "pools = range(0,9)\n",
    "cars_qc = cars_qc.reindex(pools, fill_value=0)\n",
    "cars_qc"
   ]
  },
  {
   "cell_type": "code",
   "execution_count": 180,
   "metadata": {},
   "outputs": [
    {
     "data": {
      "text/plain": [
       "dataset\n",
       "0     77.229638\n",
       "1     83.333333\n",
       "2     33.333333\n",
       "3    100.000000\n",
       "4     72.727273\n",
       "5    100.000000\n",
       "6     33.333333\n",
       "7    100.000000\n",
       "8     75.000000\n",
       "dtype: float64"
      ]
     },
     "execution_count": 180,
     "metadata": {},
     "output_type": "execute_result"
    }
   ],
   "source": [
    "#whats lost due to demultiplexing, qc and eliminating dLNs\n",
    "(cars_beginning - cars_qc) / cars_beginning *100"
   ]
  },
  {
   "cell_type": "code",
   "execution_count": 182,
   "metadata": {},
   "outputs": [
    {
     "data": {
      "text/plain": [
       "dataset\n",
       "0    1176\n",
       "1       1\n",
       "2       0\n",
       "3       0\n",
       "4       1\n",
       "5       0\n",
       "6       1\n",
       "7       0\n",
       "8       0\n",
       "dtype: int64"
      ]
     },
     "execution_count": 182,
     "metadata": {},
     "output_type": "execute_result"
    }
   ],
   "source": [
    "#for after annotation\n",
    "only_cars2 = annotated[3][annotated[3].obs.isCAR]\n",
    "cars_tcan = only_cars2.obs.groupby('dataset').size()\n",
    "cars_tcan = cars_tcan.reindex(pools, fill_value=0)\n",
    "cars_tcan"
   ]
  },
  {
   "cell_type": "code",
   "execution_count": 186,
   "metadata": {},
   "outputs": [
    {
     "data": {
      "text/plain": [
       "dataset\n",
       "0     0.019346\n",
       "1    12.500000\n",
       "2    66.666667\n",
       "3     0.000000\n",
       "4    18.181818\n",
       "5     0.000000\n",
       "6    60.000000\n",
       "7     0.000000\n",
       "8    25.000000\n",
       "dtype: float64"
      ]
     },
     "execution_count": 186,
     "metadata": {},
     "output_type": "execute_result"
    }
   ],
   "source": [
    "#whats lost due to annotating celltypes with scGate\n",
    "(cars_qc - cars_tcan) / cars_beginning *100"
   ]
  },
  {
   "cell_type": "code",
   "execution_count": 187,
   "metadata": {},
   "outputs": [
    {
     "data": {
      "text/plain": [
       "dataset\n",
       "0    1176\n",
       "1       1\n",
       "2       0\n",
       "3       0\n",
       "4       1\n",
       "5       0\n",
       "6       1\n",
       "7       0\n",
       "8       0\n",
       "dtype: int64"
      ]
     },
     "execution_count": 187,
     "metadata": {},
     "output_type": "execute_result"
    }
   ],
   "source": [
    "#for after annotation\n",
    "only_cars3 = annotated[4][annotated[4].obs.isCAR]\n",
    "end_cars = only_cars3.obs.groupby('dataset').size()\n",
    "end_cars = end_cars.reindex(pools, fill_value=0)\n",
    "end_cars"
   ]
  },
  {
   "cell_type": "code",
   "execution_count": 206,
   "metadata": {},
   "outputs": [
    {
     "data": {
      "text/plain": [
       "0.7462779156327544"
      ]
     },
     "execution_count": 206,
     "metadata": {},
     "output_type": "execute_result"
    }
   ],
   "source": [
    "#awnser question as to how many carTs are detected as CAR-Ts in the course of the experiment with respect to pool1, since those cells should all be cart cells\n",
    "number_cells_after_qc = annotated[1][annotated[1].obs.dataset == 0].shape[0]\n",
    "number_CAR_after_qc = only_cars1.shape[0]\n",
    "\n",
    "number_CAR_after_qc / number_cells_after_qc"
   ]
  },
  {
   "cell_type": "code",
   "execution_count": 210,
   "metadata": {},
   "outputs": [
    {
     "data": {
      "text/plain": [
       "0.5830008865248227"
      ]
     },
     "execution_count": 210,
     "metadata": {},
     "output_type": "execute_result"
    }
   ],
   "source": [
    "number_cells_beginning = annotated[0][annotated[0].obs.dataset == 0].shape[0]\n",
    "number_CAR_beginning = only_cars0.shape[0]\n",
    "\n",
    "number_CAR_beginning / number_cells_beginning"
   ]
  }
 ],
 "metadata": {
  "kernelspec": {
   "display_name": "scanpy",
   "language": "python",
   "name": "python3"
  },
  "language_info": {
   "codemirror_mode": {
    "name": "ipython",
    "version": 3
   },
   "file_extension": ".py",
   "mimetype": "text/x-python",
   "name": "python",
   "nbconvert_exporter": "python",
   "pygments_lexer": "ipython3",
   "version": "3.11.10"
  }
 },
 "nbformat": 4,
 "nbformat_minor": 2
}
